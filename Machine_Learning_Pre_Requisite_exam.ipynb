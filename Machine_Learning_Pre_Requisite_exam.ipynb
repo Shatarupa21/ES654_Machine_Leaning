{
  "nbformat": 4,
  "nbformat_minor": 0,
  "metadata": {
    "colab": {
      "provenance": [],
      "collapsed_sections": [
        "WyWXEYu9fv2v",
        "oqffs8ZpZMsT",
        "WBaH1B9Lg-g2",
        "wl0XSC2knYzo",
        "igGgfU1x5GAJ",
        "7pSQghYo8iu4"
      ],
      "toc_visible": true
    },
    "kernelspec": {
      "name": "python3",
      "display_name": "Python 3"
    },
    "language_info": {
      "name": "python"
    },
    "gpuClass": "standard"
  },
  "cells": [
    {
      "cell_type": "markdown",
      "source": [
        "#*Question 1*"
      ],
      "metadata": {
        "id": "Fsd_oHChidfi"
      }
    },
    {
      "cell_type": "markdown",
      "source": [
        "  How many multiplications and additions do you need to perform a matrix multiplication between a (n, k) and (k, m) matrix? Explain.\n",
        "\n",
        "\n",
        "---\n",
        "\n"
      ],
      "metadata": {
        "id": "vCxVSFU3jQWD"
      }
    },
    {
      "cell_type": "markdown",
      "source": [
        "*Answer)*  Doing a n×k times k×m matrix multiplication which mean every entry of the result is a scalar product of of two k-vectors, which requires **n x k x m **multiplications and **n(k−1)m** additions in total."
      ],
      "metadata": {
        "id": "HUgWCPqwkEeQ"
      }
    },
    {
      "cell_type": "markdown",
      "source": [
        "#*Question 2*"
      ],
      "metadata": {
        "id": "UnGvMSiknXeh"
      }
    },
    {
      "cell_type": "markdown",
      "source": [
        "Write Python code to multiply the above two matrices. Solve using list of lists and then use numpy. Compare the timing of both solutions. Which one is faster? Why?\n",
        "\n",
        "\n",
        "---\n",
        "\n"
      ],
      "metadata": {
        "id": "0hFOgc5bncxz"
      }
    },
    {
      "cell_type": "code",
      "source": [
        "# Matrix multiplication using list of list\n",
        "import random\n",
        "import time\n",
        "\n",
        "# Input matrix X of [10 x 20] and Y of [20 x 30]\n",
        "X = [[random.randint(1, 100) for x in range(20)] for y in range(10)]\n",
        "Y = [[random.randint(1, 100) for x in range(30)] for y in range(20)]\n",
        "\n",
        "# resultant matrix of [10 x 30]\n",
        "result = [[0 for x in range(30)] for y in range(10)]\n",
        "\n",
        "# calulates start time for matrix multiplication\n",
        "start = time.time()\n",
        "\n",
        "# performs matrix multiplication\n",
        "for i in range(len(X)):\n",
        "   for j in range(len(Y[0])):\n",
        "       for k in range(len(Y)):\n",
        "           result[i][j] += X[i][k] * Y[k][j]\n",
        "\n",
        "# calulates end time for matrix multiplication\n",
        "end = time.time()\n",
        "\n",
        "print(\" \")\n",
        "print(\"Execution time using list of list: \", (end - start)* 10**3,\"ms\")"
      ],
      "metadata": {
        "colab": {
          "base_uri": "https://localhost:8080/"
        },
        "id": "B9rML7PYnuHX",
        "outputId": "b9e29d6b-3851-463c-e8e9-95aadff176cf"
      },
      "execution_count": 13,
      "outputs": [
        {
          "output_type": "stream",
          "name": "stdout",
          "text": [
            " \n",
            "Execution time using list of list:  4.375934600830078 ms\n"
          ]
        }
      ]
    },
    {
      "cell_type": "markdown",
      "source": [
        "Performing the same operation using numpy"
      ],
      "metadata": {
        "id": "YKFz9QchqONE"
      }
    },
    {
      "cell_type": "code",
      "source": [
        "# Matrix multiplication using numpy\n",
        "import numpy as np\n",
        "import time\n",
        " \n",
        "# input two matrices\n",
        "X = np.random.random_sample(size = (10,20))\n",
        "Y = np.random.random_sample(size = (20,30))\n",
        "\n",
        "# calulates start time for matrix multiplication\n",
        "start = time.time()\n",
        "\n",
        "# multiplying two matrices\n",
        "result = np.dot(X,Y)\n",
        "\n",
        "# calulates start time for matrix multiplication\n",
        "end = time.time()  \n",
        "\n",
        "print(\"Execution time using numpy: \", (end - start)* 10**3,\"ms\")"
      ],
      "metadata": {
        "colab": {
          "base_uri": "https://localhost:8080/"
        },
        "id": "QEuxNR-5qLSu",
        "outputId": "cd192243-124d-48f7-de11-0b89b687e50c"
      },
      "execution_count": 14,
      "outputs": [
        {
          "output_type": "stream",
          "name": "stdout",
          "text": [
            "Execution time using numpy:  0.3063678741455078 ms\n"
          ]
        }
      ]
    },
    {
      "cell_type": "markdown",
      "source": [
        "In the first case when we are performing matrix multiplication using list of list it is taking slightly more time than when we are using numpy for the same operation. This is beacause, numpy divides the entire problem into many smaller subgroups and performs the same operation on each subgrops paralley. For this reason numpy is widely used in more complex computations."
      ],
      "metadata": {
        "id": "2LPVO3V3rbkV"
      }
    },
    {
      "cell_type": "markdown",
      "source": [
        "#Question 3"
      ],
      "metadata": {
        "id": "_qGS7eYSiZpS"
      }
    },
    {
      "cell_type": "markdown",
      "source": [
        "Finding the highest element in a list requires one pass of the array. Finding the second highest element requires 2 passes of the the array. Using this method, what is the time complexity of finding the median of the array? Can you suggest a better method? Can you implement both these methods in Python and compare against numpy.median routine in terms of time?\n",
        "\n",
        "---\n",
        "\n"
      ],
      "metadata": {
        "id": "pF2wRSQTitXU"
      }
    },
    {
      "cell_type": "markdown",
      "source": [
        "Suppose an unsorted array of $n$ number of elements is given. \n",
        "\n",
        "> To find the highest element in a list of **$n$** elements in one pass requires **$O(n)$**. To find the second highest element it requires **$O(2n)$**, therefore in order to find nth highest element it requires **$O(n*n)$ = $O(n^2)$**. By using the same method the time complexity to find the median of an array will take $O(n^2)$ at worst case, where we can find the highest element in the array and then removing it from the array to find the second highest. In the same way recursively we can find the median of the array.\n",
        "\n",
        "> The same time complexity can be improved if we sort the array and then find the median which can improve the time by $O(nlogn)$.\n",
        "\n",
        "Let us see both the methods with the help of code snippet."
      ],
      "metadata": {
        "id": "cjQjh6umtgKB"
      }
    },
    {
      "cell_type": "code",
      "source": [
        "# Method 1: \n",
        "# find the highest element in the array and \n",
        "# then removing it from the array to find the second highest. \n",
        "# In the same way recursively we can find the median of the array.\n",
        "\n",
        "import random\n",
        "import time\n",
        "\n",
        "# calulates start time\n",
        "start=time.time()\n",
        "\n",
        "# function to returns n highest elements\n",
        "def max_elem(lst, N):\n",
        "    res = []\n",
        "\n",
        "    for i in range(0, n):\n",
        "        max = 0\n",
        "\n",
        "        for j in range(len(lst)):\n",
        "            if lst[j] > max:\n",
        "                max = lst[j]\n",
        "        #removes highest element from list\n",
        "        #for each pass\n",
        "        lst.remove(max)\n",
        "        #adds highest element to result_list\n",
        "        #for each pass\n",
        "        res.append(max)\n",
        "        \n",
        "    return res\n",
        "\n",
        "# input list\n",
        "lst = [random.randint(1, 100) for x in range(20)]\n",
        "\n",
        "#display input list\n",
        "print(lst)\n",
        "\n",
        "# calculates length\n",
        "x=len(lst)\n",
        "\n",
        "# calculates median when len is odd\n",
        "if x%2!=0:\n",
        "    a=max_elem(lst,int(x/2)+1)\n",
        "    print(\"Median:\",a[-1])\n",
        "else:\n",
        "    # calculates median when len is even\n",
        "    a=max_elem(lst,int(x/2)+1)\n",
        "    print(\"Median:\",(a[-1]+a[-2])/2)\n",
        "    \n",
        "# calulating end time\n",
        "end = time.time()\n",
        "print(\" \")\n",
        "print(\"Execution time for Method 1: \", (end - start)* 10**3,\"ms\")"
      ],
      "metadata": {
        "colab": {
          "base_uri": "https://localhost:8080/"
        },
        "id": "_4GyXNyW5Mrm",
        "outputId": "4b55d569-0ab2-490f-c28f-d845264a4fe7"
      },
      "execution_count": 15,
      "outputs": [
        {
          "output_type": "stream",
          "name": "stdout",
          "text": [
            "[44, 49, 37, 5, 13, 52, 36, 82, 31, 72, 40, 65, 100, 96, 5, 92, 34, 88, 99, 46]\n",
            "Median: 5.0\n",
            " \n",
            "Execution time for Method 1:  11.187076568603516 ms\n"
          ]
        }
      ]
    },
    {
      "cell_type": "code",
      "source": [
        "# Method 2: \n",
        "# find the median first by sorting\n",
        "# calling recursively the median func\n",
        "\n",
        "import random\n",
        "import time\n",
        "\n",
        "# calulates start time\n",
        "start=time.time()\n",
        "\n",
        "def median(lst, x):\n",
        "\n",
        "\t# First we sort the array\n",
        "\tlst.sort()\n",
        "\n",
        "\tif x % 2 != 0:\n",
        "\t\treturn (lst[int(x/2)])\n",
        "\n",
        "\treturn ((lst[int((x-1)/2)] +\n",
        "\t\t\t\tlst[int(x/2)])/2.0)\n",
        "\n",
        "# input list\n",
        "lst= [random.randint(1, 100) for x in range(20)]\n",
        "x = len(lst)\n",
        "print(lst)\n",
        "\n",
        "medi_elem = median(lst,x)\n",
        "print(\"\\nArray after sort:\\n \",lst)\n",
        "\n",
        "print(\" \")\n",
        "print(\"Median of sorted array: \",medi_elem)\n",
        "\n",
        "# calulating end time\n",
        "end = time.time()\n",
        "print(\" \")\n",
        "print(\"Execution time for Method 2: \", (end - start)* 10**3,\"ms\")"
      ],
      "metadata": {
        "colab": {
          "base_uri": "https://localhost:8080/"
        },
        "id": "PaINhOZhNHap",
        "outputId": "e8209b4c-a551-4120-89c1-54152f8e6422"
      },
      "execution_count": 20,
      "outputs": [
        {
          "output_type": "stream",
          "name": "stdout",
          "text": [
            "[13, 96, 93, 26, 62, 64, 73, 27, 48, 55, 52, 37, 14, 17, 3, 75, 97, 82, 83, 22]\n",
            "\n",
            "Array after sort:\n",
            "  [3, 13, 14, 17, 22, 26, 27, 37, 48, 52, 55, 62, 64, 73, 75, 82, 83, 93, 96, 97]\n",
            " \n",
            "Median of sorted array:  53.5\n",
            " \n",
            "Execution time for Method 2:  9.98067855834961 ms\n"
          ]
        }
      ]
    },
    {
      "cell_type": "code",
      "source": [
        "# Method 3:\n",
        "# using numpy.median\n",
        "\n",
        "import random\n",
        "import numpy as np\n",
        "import time\n",
        "\n",
        "# calulates start time\n",
        "start=time.time()\n",
        "\n",
        "# input list\n",
        "lst= [random.randint(1, 100) for x in range(20)]\n",
        "print(lst)\n",
        "\n",
        "medi=np.median(lst)\n",
        "print(\"\\nMedian of array using numpy.median: \", medi )\n",
        "\n",
        "# calulating end time\n",
        "end = time.time()\n",
        "print(\" \")\n",
        "print(\"Execution time for Method 3: \", (end - start)* 10**3,\"ms\")"
      ],
      "metadata": {
        "colab": {
          "base_uri": "https://localhost:8080/"
        },
        "id": "IKxFkcHYV_oA",
        "outputId": "5765775f-bfaa-4a1b-e7b2-0da067983867"
      },
      "execution_count": 24,
      "outputs": [
        {
          "output_type": "stream",
          "name": "stdout",
          "text": [
            "[91, 51, 61, 79, 32, 4, 18, 24, 53, 1, 73, 17, 17, 56, 70, 87, 8, 17, 24, 20]\n",
            "\n",
            "Median of array using numpy.median:  28.0\n",
            " \n",
            "Execution time for Method 3:  6.52766227722168 ms\n"
          ]
        }
      ]
    },
    {
      "cell_type": "markdown",
      "source": [
        "For the above three methods the execution time is always better in terms of numpy libraries."
      ],
      "metadata": {
        "id": "KtIhz--zXSnh"
      }
    },
    {
      "cell_type": "markdown",
      "source": [
        "#Question 4"
      ],
      "metadata": {
        "id": "WyWXEYu9fv2v"
      }
    },
    {
      "cell_type": "markdown",
      "source": [
        "What is the gradient of the following function with respect to x and y\n",
        "  for the given function?\n",
        "\n",
        "> $x^2 y + y^3 sin(x)$\n",
        "\n",
        "---\n",
        "\n",
        "\n",
        "\n"
      ],
      "metadata": {
        "id": "axosKszmXya1"
      }
    },
    {
      "cell_type": "markdown",
      "source": [
        "For the above function, the gradient in terms of $x$ and $y$ is as follows,\n",
        "\n",
        "> $f(x,y) = \\frac{\\delta{f}}{\\delta {x}} i + \\frac{\\delta{f}}{\\delta {y}} j $\n",
        "\n",
        "\n",
        "\n",
        "> $= \\frac{\\delta}{\\delta {x}}{(x^2 y + y^3 sin(x))} i + \\frac{\\delta}{\\delta {y}}{(x^2 y + y^3 sin(x))} j $\n",
        "\n",
        "\n",
        "> $= {(2xy + y^3 cos(x))} i + {(x^2 + 3y^2 sin(x))} j $\n",
        "\n",
        "\n",
        "\n"
      ],
      "metadata": {
        "id": "zwiQPg0fYRjT"
      }
    },
    {
      "cell_type": "markdown",
      "source": [
        "#Question 5"
      ],
      "metadata": {
        "id": "oqffs8ZpZMsT"
      }
    },
    {
      "cell_type": "markdown",
      "source": [
        "Use JAX to confirm the gradient evaluated by your method matches the analytical solution corresponding to a few random values of x and y\n",
        "\n",
        "---\n",
        "\n"
      ],
      "metadata": {
        "id": "3GD4ZIFNZQAu"
      }
    },
    {
      "cell_type": "code",
      "execution_count": 37,
      "metadata": {
        "colab": {
          "base_uri": "https://localhost:8080/"
        },
        "id": "Yjoc3diO6COv",
        "outputId": "2f8744b0-89db-4f0f-9e04-964e8c8cadb3"
      },
      "outputs": [
        {
          "output_type": "stream",
          "name": "stdout",
          "text": [
            "Expliciet Gradient value:  [DeviceArray(0.7640352, dtype=float32, weak_type=True), DeviceArray(28.55103, dtype=float32, weak_type=True)]\n",
            "JAX Gradient Function:  (DeviceArray(0.7640352, dtype=float32, weak_type=True), DeviceArray(28.55103, dtype=float32, weak_type=True))\n",
            "\n"
          ]
        }
      ],
      "source": [
        "# Comparison of JAX gradient calulation\n",
        "# analytical gradient value\n",
        "\n",
        "import jax\n",
        "import random\n",
        "import jax.numpy as jnp\n",
        "from jax.test_util import check_grads\n",
        "\n",
        "#function to cross check analytical value \n",
        "#of gradient by expliciet method\n",
        "def analy_grad(x,y):\n",
        "  res=[2*x*y + (y**3)*jnp.cos(x) , x**2 + 3*(y**2)*jnp.sin(x)]\n",
        "  return res\n",
        "\n",
        "#function to return gradient\n",
        "def grad_fun(x, y):\n",
        "  res = ((x**2)*y +(y**3)*jnp.sin(x))\n",
        "  return res\n",
        "\n",
        "\n",
        "# JAX's gradient function\n",
        "gradient_function = jax.grad(grad_fun,(0,1))\n",
        "\n",
        "# Input\n",
        "x=2.0\n",
        "y=3.0\n",
        "\n",
        "print(\"Expliciet Gradient value: \", analy_grad(x,y))\n",
        "print(\"JAX Gradient Function: \", gradient_function(x,y))\n",
        "print(\"\")"
      ]
    },
    {
      "cell_type": "markdown",
      "source": [
        "#Question 6"
      ],
      "metadata": {
        "id": "qm9piWn_IDSt"
      }
    },
    {
      "cell_type": "markdown",
      "source": [
        "Use sympy to confirm that you obtain the same gradient analytically.\n",
        "\n",
        "---\n",
        "\n"
      ],
      "metadata": {
        "id": "DpfkADZteF3l"
      }
    },
    {
      "cell_type": "code",
      "source": [
        "# Using sympy cross check our gradient result\n",
        "\n",
        "import sympy as sy\n",
        "import numpy as np\n",
        "from sympy import *\n",
        "from sympy.vector import gradient\n",
        "\n",
        "#differentiating in terms of x\n",
        "a = sy.diff( ((x**2)*y) + ((y**3)*sin(x)), x)\n",
        "\n",
        "#differentiating in terms of y\n",
        "b = sy.diff( ((x**2)*y) + ((y**3)*sin(x)), y)\n",
        "\n",
        "#display output equation\n",
        "print(a,\"+\",b)"
      ],
      "metadata": {
        "colab": {
          "base_uri": "https://localhost:8080/"
        },
        "id": "PYCdpOozCQe_",
        "outputId": "352d0ba4-ef1e-4b47-cf9a-ee85b0407122"
      },
      "execution_count": 48,
      "outputs": [
        {
          "output_type": "stream",
          "name": "stdout",
          "text": [
            "2*x*y + y**3*cos(x) + x**2 + 3*y**2*sin(x)\n"
          ]
        }
      ]
    },
    {
      "cell_type": "markdown",
      "source": [
        "Another method is importing CoordSys3D"
      ],
      "metadata": {
        "id": "RQl6rnT1OZaw"
      }
    },
    {
      "cell_type": "code",
      "source": [
        "from sympy.vector import CoordSys3D, gradient\n",
        "\n",
        "R = CoordSys3D('R')\n",
        "func = R.x**2*R.y+R.y*sy.sin(R.x)\n",
        "gradient(func)"
      ],
      "metadata": {
        "colab": {
          "base_uri": "https://localhost:8080/",
          "height": 39
        },
        "id": "m6bCEdoSOOJk",
        "outputId": "a67fe1fe-fb35-4a4c-d2aa-89755dcb4e0d"
      },
      "execution_count": 195,
      "outputs": [
        {
          "output_type": "execute_result",
          "data": {
            "text/plain": [
              "(2*R.x*R.y + R.y*cos(R.x))*R.i + (R.x**2 + sin(R.x))*R.j"
            ],
            "text/latex": "$\\displaystyle (2 \\mathbf{{x}_{R}} \\mathbf{{y}_{R}} + \\mathbf{{y}_{R}} \\cos{\\left(\\mathbf{{x}_{R}} \\right)})\\mathbf{\\hat{i}_{R}} + (\\mathbf{{x}_{R}}^{2} + \\sin{\\left(\\mathbf{{x}_{R}} \\right)})\\mathbf{\\hat{j}_{R}}$"
          },
          "metadata": {},
          "execution_count": 195
        }
      ]
    },
    {
      "cell_type": "markdown",
      "source": [
        "By using sympy, we see that our solution for gradient in **\"Question 4\"** is analytically correct."
      ],
      "metadata": {
        "id": "EyY0MwmWgeEq"
      }
    },
    {
      "cell_type": "markdown",
      "source": [
        "#Question 7"
      ],
      "metadata": {
        "id": "WBaH1B9Lg-g2"
      }
    },
    {
      "cell_type": "markdown",
      "source": [
        "Create a Python nested dictionary to represent hierarchical information. We want to store record of students and their marks. Something like:\n",
        "\n",
        "1.2022 1. Branch 1 Roll Number: 1, Name: N, Marks: Maths: 100, English: 70 … 2. Branch 2 2.2023 1. Branch 1 2. Branch 2 3.2024 1. Branch 1 2. Branch 2 4.2025 1. Branch 1 2. Branch 2\n",
        "\n",
        "---\n",
        "\n"
      ],
      "metadata": {
        "id": "VhrxgZT8hBHK"
      }
    },
    {
      "cell_type": "code",
      "source": [
        "# Creating a Nested Dictionary\n",
        "Yearwise_record = {\n",
        "\t\"1.2022\" : {\n",
        "        \"1.Branch1\" : {\n",
        "            \"Roll Number\": 22210042,\n",
        "            \"Name\":\"N\",\n",
        "            \"Marks\":{\n",
        "                \"Maths\":100,\n",
        "                \"English\":80\n",
        "            }\n",
        "        },\n",
        "            \n",
        "        \"2.Branch2\" : {\n",
        "            \"Roll Number\": 22210043,\n",
        "            \"Name\":\"M\",\n",
        "            \"Marks\":{\n",
        "                \"Maths\":95,\n",
        "                \"English\":100\n",
        "            }\n",
        "        }\n",
        "\t},\n",
        "\t\"2.2023\" : {\n",
        "\t\t\"1.Branch1\" : {\n",
        "            \"Roll Number\": 22210044,\n",
        "            \"Name\":\"N\",\n",
        "            \"Marks\":{\n",
        "                \"Maths\":86,\n",
        "                \"English\":90\n",
        "            }\n",
        "            },\n",
        "            \n",
        "        \"2.Branch2\" : {\n",
        "            \"Roll Number\": 22210046,\n",
        "            \"Name\":\"N\",\n",
        "            \"Marks\":{\n",
        "                \"Maths\":100,\n",
        "                \"English\":80\n",
        "            }\n",
        "        }\n",
        "\t},\n",
        "\t\"3.2024\" : {\n",
        "\t\t\"1.Branch1\" : {\n",
        "            \"Roll Number\": 22210047,\n",
        "            \"Name\":\"N\",\n",
        "            \"Marks\":{\n",
        "                \"Maths\":98,\n",
        "                \"English\":100\n",
        "            }\n",
        "        },\n",
        "            \n",
        "        \"2.Branch2\" : {\n",
        "            \"Roll Number\": 22210041,\n",
        "            \"Name\":\"N\",\n",
        "            \"Marks\":{\n",
        "                \"Maths\":75,\n",
        "                \"English\":90\n",
        "            }\n",
        "        }\n",
        "\t},\n",
        "    \"4.2025\" : {\n",
        "\t\t\"1.Branch1\" : {\n",
        "            \"Roll Number\": 22210048,\n",
        "            \"Name\":\"N\",\n",
        "            \"Marks\":{\n",
        "                \"Maths\":80,\n",
        "                \"English\":90\n",
        "            },\n",
        "            \n",
        "        \"2.Branch2\" : {\n",
        "            \"Roll Number\": 22210049,\n",
        "            \"Name\":\"N\",\n",
        "            \"Marks\":{\n",
        "                \"Maths\":100,\n",
        "                \"English\":90\n",
        "            }\n",
        "        }\n",
        "    }\n",
        "    }\n",
        "    }\n",
        "\n",
        "# Displaying the Nested Dictionary\n",
        "print(\"Displaying Nested Dictionary\\n\")\n",
        "for x,y in Yearwise_record.items():\n",
        "    print(x+\"\\n\")\n",
        "    \n",
        "    for z,a in y.items():\n",
        "        print(\"\\t\"+z+\":\"+\"\\t\\n\"+ \"\\t\\t\")\n",
        "        \n",
        "        for b in a:\n",
        "            print(\"\\t\\t\"+b+\":\"+str(a[b]))"
      ],
      "metadata": {
        "colab": {
          "base_uri": "https://localhost:8080/"
        },
        "id": "vBlxdusrhJya",
        "outputId": "abf6a925-808e-4a49-b39d-92039e7d0af4"
      },
      "execution_count": 193,
      "outputs": [
        {
          "output_type": "stream",
          "name": "stdout",
          "text": [
            "Displaying Nested Dictionary\n",
            "\n",
            "1.2022\n",
            "\n",
            "\t1.Branch1:\t\n",
            "\t\t\n",
            "\t\tRoll Number:22210042\n",
            "\t\tName:N\n",
            "\t\tMarks:{'Maths': 100, 'English': 80}\n",
            "\t2.Branch2:\t\n",
            "\t\t\n",
            "\t\tRoll Number:22210043\n",
            "\t\tName:M\n",
            "\t\tMarks:{'Maths': 95, 'English': 100}\n",
            "2.2023\n",
            "\n",
            "\t1.Branch1:\t\n",
            "\t\t\n",
            "\t\tRoll Number:22210044\n",
            "\t\tName:N\n",
            "\t\tMarks:{'Maths': 86, 'English': 90}\n",
            "\t2.Branch2:\t\n",
            "\t\t\n",
            "\t\tRoll Number:22210046\n",
            "\t\tName:N\n",
            "\t\tMarks:{'Maths': 100, 'English': 80}\n",
            "3.2024\n",
            "\n",
            "\t1.Branch1:\t\n",
            "\t\t\n",
            "\t\tRoll Number:22210047\n",
            "\t\tName:N\n",
            "\t\tMarks:{'Maths': 98, 'English': 100}\n",
            "\t2.Branch2:\t\n",
            "\t\t\n",
            "\t\tRoll Number:22210041\n",
            "\t\tName:N\n",
            "\t\tMarks:{'Maths': 75, 'English': 90}\n",
            "4.2025\n",
            "\n",
            "\t1.Branch1:\t\n",
            "\t\t\n",
            "\t\tRoll Number:22210048\n",
            "\t\tName:N\n",
            "\t\tMarks:{'Maths': 80, 'English': 90}\n",
            "\t\t2.Branch2:{'Roll Number': 22210049, 'Name': 'N', 'Marks': {'Maths': 100, 'English': 90}}\n"
          ]
        }
      ]
    },
    {
      "cell_type": "markdown",
      "source": [
        "#Question 8"
      ],
      "metadata": {
        "id": "LonPdEwTiC_C"
      }
    },
    {
      "cell_type": "markdown",
      "source": [
        " Store the same information using Python classes. We have an overall database which is a list of year objects. Each year contains a list of branches. Each branch contains a list of students. Each student has some properties like name, roll number and has marks in some subjects.\n",
        "\n",
        "---\n",
        "\n"
      ],
      "metadata": {
        "id": "DDKdnFUUiFsf"
      }
    },
    {
      "cell_type": "markdown",
      "source": [
        "Created a python class to store student records"
      ],
      "metadata": {
        "id": "WQV3ZJnfQOI-"
      }
    },
    {
      "cell_type": "code",
      "source": [
        "#using python class\n",
        "\n",
        "class yearwise_Data:\n",
        "   def __init__(self, year, branch):\n",
        "       self.year = year\n",
        "       self.branchg = branchg\n",
        "\n",
        "class branchg:\n",
        "   def __init__(self, branchnm, student):\n",
        "       self.branchnm = branchnm\n",
        "       self.student = student\n",
        "              \n",
        "class Student_Record:\n",
        "    def __init__(self, name, rollNo, marks, branch, year):\n",
        "        self.name = name\n",
        "        self.rollNo = rollNo\n",
        "        self.marks = self.marks\n",
        "\n",
        "class Marks:\n",
        "    def __init__(self, Maths = 0.0, English = 0.0):\n",
        "        self.Maths = Maths\n",
        "        self.English = English\n",
        "            "
      ],
      "metadata": {
        "id": "uhlj3bmXiNVH"
      },
      "execution_count": 212,
      "outputs": []
    },
    {
      "cell_type": "markdown",
      "source": [
        "#Question 9\n"
      ],
      "metadata": {
        "id": "354LuAaCj5u4"
      }
    },
    {
      "cell_type": "markdown",
      "source": [
        "Using matplotlib plot the following functions on the domain: x = 0.5 to 100.0 in steps of 0.5, of the following equations,\n",
        "\n",
        "---\n",
        "\n",
        "\n",
        "\n"
      ],
      "metadata": {
        "id": "RLyTDKl7j9WH"
      }
    },
    {
      "cell_type": "markdown",
      "source": [
        "> 1) $y=x$"
      ],
      "metadata": {
        "id": "olrsC8iLkbj4"
      }
    },
    {
      "cell_type": "code",
      "source": [
        "import matplotlib.pyplot as plt\n",
        "import numpy as np"
      ],
      "metadata": {
        "id": "Kw9uGudhkhrE"
      },
      "execution_count": 55,
      "outputs": []
    },
    {
      "cell_type": "code",
      "source": [
        "x = np.arange(0.5, 100.1, 0.5)"
      ],
      "metadata": {
        "id": "qhMesSwEm1et"
      },
      "execution_count": 64,
      "outputs": []
    },
    {
      "cell_type": "code",
      "source": [
        "y = x\n",
        "\n",
        "#Naming the graph\n",
        "plt.title('y = x')\n",
        "\n",
        "#Naming x-axis\n",
        "plt.xlabel('x-axis')\n",
        "\n",
        "#Naming y-axis\n",
        "plt.ylabel('y-axis')\n",
        "\n",
        "plt.grid(True, linestyle =':')\n",
        "\n",
        "#function to plot the graph\n",
        "plt.plot(x, y)\n",
        "\n",
        "#function to show the graph\n",
        "plt.show()"
      ],
      "metadata": {
        "colab": {
          "base_uri": "https://localhost:8080/",
          "height": 295
        },
        "id": "rwYBeO-Tk3SM",
        "outputId": "0025d8f9-5311-4d47-cdfc-6dbc5fbf2072"
      },
      "execution_count": 65,
      "outputs": [
        {
          "output_type": "display_data",
          "data": {
            "text/plain": [
              "<Figure size 432x288 with 1 Axes>"
            ],
            "image/png": "[encoded data removed]"
          },
          "metadata": {
            "needs_background": "light"
          }
        }
      ]
    },
    {
      "cell_type": "markdown",
      "source": [
        "\n",
        "\n",
        "> 2) $ y = x^2 $\n",
        "\n"
      ],
      "metadata": {
        "id": "7zuAEoBOk93P"
      }
    },
    {
      "cell_type": "code",
      "source": [
        "y = x**2\n",
        "\n",
        "#Naming the graph\n",
        "plt.title('y = x^2')\n",
        "\n",
        "#Naming x-axis\n",
        "plt.xlabel('x-axis')\n",
        "\n",
        "#Naming y-axis\n",
        "plt.ylabel('y-axis')\n",
        "\n",
        "plt.grid(True, linestyle =':')\n",
        "\n",
        "#function to plot the graph\n",
        "plt.plot(x, y)\n",
        "\n",
        "#function to show the graph\n",
        "plt.show()"
      ],
      "metadata": {
        "colab": {
          "base_uri": "https://localhost:8080/",
          "height": 295
        },
        "id": "r8svXjDjlHY8",
        "outputId": "7f32241a-be98-4631-8c8c-21ab5e05fdbe"
      },
      "execution_count": 66,
      "outputs": [
        {
          "output_type": "display_data",
          "data": {
            "text/plain": [
              "<Figure size 432x288 with 1 Axes>"
            ],
            "image/png": "[encoded data removed]"
          },
          "metadata": {
            "needs_background": "light"
          }
        }
      ]
    },
    {
      "cell_type": "markdown",
      "source": [
        "\n",
        "\n",
        ">3) $ y = \\frac{(x^3)}{100} $\n",
        "\n"
      ],
      "metadata": {
        "id": "G-8-9RmLlUB1"
      }
    },
    {
      "cell_type": "code",
      "source": [
        "y = (x**3) / 100\n",
        "\n",
        "#Naming the graph\n",
        "plt.title('y = ((x^3)/100)')\n",
        "\n",
        "#Naming x-axis\n",
        "plt.xlabel('x-axis')\n",
        "\n",
        "#Naming y-axis\n",
        "plt.ylabel('y-axis')\n",
        "\n",
        "plt.grid(True, linestyle =':')\n",
        "\n",
        "#function to plot the graph\n",
        "plt.plot(x, y)\n",
        "\n",
        "#function to show the graph\n",
        "plt.show()"
      ],
      "metadata": {
        "colab": {
          "base_uri": "https://localhost:8080/",
          "height": 295
        },
        "id": "7XxTMaNAlUq8",
        "outputId": "706f3dd1-b43c-4817-f0fb-15c3826e0805"
      },
      "execution_count": 67,
      "outputs": [
        {
          "output_type": "display_data",
          "data": {
            "text/plain": [
              "<Figure size 432x288 with 1 Axes>"
            ],
            "image/png": "[encoded data removed]"
          },
          "metadata": {
            "needs_background": "light"
          }
        }
      ]
    },
    {
      "cell_type": "markdown",
      "source": [
        "\n",
        "\n",
        "> 4) $ y=sin(x) $\n",
        "\n"
      ],
      "metadata": {
        "id": "TIlSq24vlVEz"
      }
    },
    {
      "cell_type": "code",
      "source": [
        "y = np.sin(x)\n",
        "\n",
        "#Naming of the graph\n",
        "plt.title('sin(x)')\n",
        "\n",
        "#Naming x-axis\n",
        "plt.xlabel('x-axis')\n",
        "\n",
        "#Naming y-axis\n",
        "plt.ylabel('y-axis')\n",
        "\n",
        "plt.grid(True, linestyle =':')\n",
        "plt.xlim([-2, 100])\n",
        "plt.ylim([-2, 2])\n",
        "\n",
        "#function to plot the graph\n",
        "plt.plot(x, y)\n",
        "\n",
        "#function to show the graph\n",
        "plt.show()"
      ],
      "metadata": {
        "colab": {
          "base_uri": "https://localhost:8080/",
          "height": 295
        },
        "id": "fby-TldrlV8X",
        "outputId": "88a08bb8-ac70-4ea7-f3fe-ccfda734fdaa"
      },
      "execution_count": 68,
      "outputs": [
        {
          "output_type": "display_data",
          "data": {
            "text/plain": [
              "<Figure size 432x288 with 1 Axes>"
            ],
            "image/png": "[encoded data removed]"
          },
          "metadata": {
            "needs_background": "light"
          }
        }
      ]
    },
    {
      "cell_type": "markdown",
      "source": [
        "\n",
        "\n",
        "> 5) $ y=\\frac{sin(x)}{x} $\n",
        "\n"
      ],
      "metadata": {
        "id": "kGsfqqQZmF9E"
      }
    },
    {
      "cell_type": "code",
      "source": [
        "d = np.sin(x)\n",
        "y= d/x\n",
        "\n",
        "#Naming the graph\n",
        "plt.title('(sin(x))/x')\n",
        "\n",
        "#Naming x-axis\n",
        "plt.xlabel('x-axis')\n",
        "\n",
        "#Naming y-axis\n",
        "plt.ylabel('y-axis')\n",
        "\n",
        "plt.grid(True, linestyle =':')\n",
        "plt.xlim([-1, 100])\n",
        "plt.ylim([-1, 1])\n",
        "\n",
        "#function to plot the graph \n",
        "plt.plot(x, y)\n",
        "\n",
        "#function to show the graph\n",
        "plt.show()"
      ],
      "metadata": {
        "colab": {
          "base_uri": "https://localhost:8080/",
          "height": 295
        },
        "id": "p6pRu-bnmGnE",
        "outputId": "ccef8202-c698-48bb-d936-4b88122238c7"
      },
      "execution_count": 69,
      "outputs": [
        {
          "output_type": "display_data",
          "data": {
            "text/plain": [
              "<Figure size 432x288 with 1 Axes>"
            ],
            "image/png": "[encoded data removed]"
          },
          "metadata": {
            "needs_background": "light"
          }
        }
      ]
    },
    {
      "cell_type": "markdown",
      "source": [
        "\n",
        "\n",
        "> 6) $ y=log(x)$\n",
        "\n"
      ],
      "metadata": {
        "id": "TWU0deWXmHVb"
      }
    },
    {
      "cell_type": "code",
      "source": [
        "y = np.log(x)\n",
        "\n",
        "#Naming the graph\n",
        "plt.title('log(x)')\n",
        "\n",
        "#Naming x-axis\n",
        "plt.xlabel('x-axis')\n",
        "\n",
        "#Naming y-axis\n",
        "plt.ylabel('y-axis')\n",
        "\n",
        "plt.grid(True, linestyle =':')\n",
        "\n",
        "#function to plot the graph\n",
        "plt.plot(x, y)\n",
        "\n",
        "#function to show the graph\n",
        "plt.show()"
      ],
      "metadata": {
        "colab": {
          "base_uri": "https://localhost:8080/",
          "height": 295
        },
        "id": "_pXNI_6-mIAb",
        "outputId": "cbe82b64-190d-43e3-9db4-f70e3f10d68f"
      },
      "execution_count": 70,
      "outputs": [
        {
          "output_type": "display_data",
          "data": {
            "text/plain": [
              "<Figure size 432x288 with 1 Axes>"
            ],
            "image/png": "[encoded data removed]"
          },
          "metadata": {
            "needs_background": "light"
          }
        }
      ]
    },
    {
      "cell_type": "markdown",
      "source": [
        "\n",
        "\n",
        "> 7) $ y=e^x $\n",
        "\n"
      ],
      "metadata": {
        "id": "svJtOyQwmi-n"
      }
    },
    {
      "cell_type": "code",
      "source": [
        "y = np.exp(x)\n",
        "\n",
        "#Naming the graph\n",
        "plt.title('Exponential(x)')\n",
        "\n",
        "#Naming x-axis\n",
        "plt.xlabel('x-axis')\n",
        "\n",
        "#Naming y-axis\n",
        "plt.ylabel('y-axis')\n",
        "\n",
        "plt.grid(True, linestyle =':')\n",
        "\n",
        "#function to plot the graph\n",
        "plt.plot(x, y)\n",
        "\n",
        "#function to show the graph\n",
        "plt.show()"
      ],
      "metadata": {
        "colab": {
          "base_uri": "https://localhost:8080/",
          "height": 295
        },
        "id": "b0oAM1iOmjZ0",
        "outputId": "285623ba-7a08-4fb6-ae78-70ac0df14b90"
      },
      "execution_count": 71,
      "outputs": [
        {
          "output_type": "display_data",
          "data": {
            "text/plain": [
              "<Figure size 432x288 with 1 Axes>"
            ],
            "image/png": "[encoded data removed]"
          },
          "metadata": {
            "needs_background": "light"
          }
        }
      ]
    },
    {
      "cell_type": "markdown",
      "source": [
        "#Question 10"
      ],
      "metadata": {
        "id": "wl0XSC2knYzo"
      }
    },
    {
      "cell_type": "markdown",
      "source": [
        "Using numpy generate a matrix of size 20X5 containing random numbers drawn uniformly from the range of 1 to 2. Using Pandas create a dataframe out of this matrix. Name the columns of the dataframe as “a”, “b”, “c”, “d”, “e”. Find the column with the highest standard deviation. Find the row with the lowest mean.\n",
        "\n",
        "---\n",
        "\n"
      ],
      "metadata": {
        "id": "1_rkm4HwndzO"
      }
    },
    {
      "cell_type": "code",
      "source": [
        "# Using Pandas\n",
        "\n",
        "import numpy as np\n",
        "import pandas as pd\n",
        "\n",
        "# array with uniform distribution\n",
        "arr = np.random.uniform(1, 2, size=(20,5))\n",
        "\n",
        "# creating panda dataframe\n",
        "table = pd.DataFrame(arr, columns=['a','b','c','d','e'])\n",
        "print(\"The Panda Dataframe\")\n",
        "print(\"\\n\",table)\n",
        "print(\"\\n\")\n",
        "\n",
        "arr2=[]\n",
        "arr3=[]\n",
        "\n",
        "# calculate standart deviation of each column\n",
        "for column in table:\n",
        "    arr1 = table[column].std()\n",
        "    print(\"Standard Deviation of column:\", column,arr1)\n",
        "    arr2.append(arr1)\n",
        "\n",
        "# print highest standard deviation\n",
        "hsd = max(arr2)\n",
        "print(\"\\nHighest standard deviation amoung all the coulumn: \", hsd)\n",
        "\n",
        "# calulating mean of each row as a new column\n",
        "table['mean'] = table.mean(axis = 1)\n",
        "print(\"\\n\")\n",
        "print(table)\n",
        "\n",
        "# converting a dataframe to list\n",
        "arr3 = table['mean'].tolist()\n",
        "    \n",
        "#print lowest Mean\n",
        "\n",
        "lm = np.min(arr3)\n",
        "print(\"\\nLowest Mean amoung all the rows: \", lm)"
      ],
      "metadata": {
        "colab": {
          "base_uri": "https://localhost:8080/"
        },
        "id": "doxNqScTnr1t",
        "outputId": "b5539ab1-c9f9-4254-ed6e-6e8206fd9371"
      },
      "execution_count": 114,
      "outputs": [
        {
          "output_type": "stream",
          "name": "stdout",
          "text": [
            "The Panda Dataframe\n",
            "\n",
            "            a         b         c         d         e\n",
            "0   1.363536  1.263654  1.306055  1.971979  1.048493\n",
            "1   1.738805  1.166474  1.039179  1.788601  1.339901\n",
            "2   1.829595  1.079889  1.758136  1.212571  1.228856\n",
            "3   1.415673  1.486432  1.135686  1.633568  1.138670\n",
            "4   1.113676  1.215094  1.869875  1.323104  1.070638\n",
            "5   1.802958  1.925076  1.688168  1.920818  1.503929\n",
            "6   1.241289  1.149652  1.304307  1.391154  1.458297\n",
            "7   1.962395  1.842433  1.112642  1.180470  1.882616\n",
            "8   1.588584  1.378891  1.518414  1.963817  1.049640\n",
            "9   1.243147  1.594921  1.177075  1.352157  1.505500\n",
            "10  1.210993  1.766709  1.024077  1.451257  1.268437\n",
            "11  1.111469  1.428251  1.077143  1.305895  1.053626\n",
            "12  1.831029  1.242392  1.878869  1.605149  1.232769\n",
            "13  1.636363  1.878202  1.901635  1.006446  1.341469\n",
            "14  1.464880  1.826234  1.253305  1.656414  1.219263\n",
            "15  1.135629  1.758180  1.286376  1.346328  1.095765\n",
            "16  1.892509  1.245214  1.107111  1.487694  1.301840\n",
            "17  1.224018  1.691915  1.388389  1.144662  1.585850\n",
            "18  1.483273  1.180190  1.583591  1.954456  1.056359\n",
            "19  1.275083  1.505389  1.141689  1.698441  1.667442\n",
            "\n",
            "\n",
            "Standard Deviation of column: a 0.2861058052155194\n",
            "Standard Deviation of column: b 0.2833181269815673\n",
            "Standard Deviation of column: c 0.3020676443102461\n",
            "Standard Deviation of column: d 0.2967483667500133\n",
            "Standard Deviation of column: e 0.2352683187022876\n",
            "\n",
            "Highest standard deviation amoung all the coulumn:  0.3020676443102461\n",
            "\n",
            "\n",
            "           a         b         c         d         e      mean\n",
            "0   1.363536  1.263654  1.306055  1.971979  1.048493  1.390743\n",
            "1   1.738805  1.166474  1.039179  1.788601  1.339901  1.414592\n",
            "2   1.829595  1.079889  1.758136  1.212571  1.228856  1.421809\n",
            "3   1.415673  1.486432  1.135686  1.633568  1.138670  1.362006\n",
            "4   1.113676  1.215094  1.869875  1.323104  1.070638  1.318477\n",
            "5   1.802958  1.925076  1.688168  1.920818  1.503929  1.768190\n",
            "6   1.241289  1.149652  1.304307  1.391154  1.458297  1.308940\n",
            "7   1.962395  1.842433  1.112642  1.180470  1.882616  1.596111\n",
            "8   1.588584  1.378891  1.518414  1.963817  1.049640  1.499869\n",
            "9   1.243147  1.594921  1.177075  1.352157  1.505500  1.374560\n",
            "10  1.210993  1.766709  1.024077  1.451257  1.268437  1.344295\n",
            "11  1.111469  1.428251  1.077143  1.305895  1.053626  1.195277\n",
            "12  1.831029  1.242392  1.878869  1.605149  1.232769  1.558042\n",
            "13  1.636363  1.878202  1.901635  1.006446  1.341469  1.552823\n",
            "14  1.464880  1.826234  1.253305  1.656414  1.219263  1.484019\n",
            "15  1.135629  1.758180  1.286376  1.346328  1.095765  1.324455\n",
            "16  1.892509  1.245214  1.107111  1.487694  1.301840  1.406874\n",
            "17  1.224018  1.691915  1.388389  1.144662  1.585850  1.406967\n",
            "18  1.483273  1.180190  1.583591  1.954456  1.056359  1.451574\n",
            "19  1.275083  1.505389  1.141689  1.698441  1.667442  1.457609\n",
            "\n",
            "Lowest Mean amoung all the rows:  1.1952765988429601\n"
          ]
        }
      ]
    },
    {
      "cell_type": "markdown",
      "source": [
        "#Question 11"
      ],
      "metadata": {
        "id": "1bp4KM6GsJr2"
      }
    },
    {
      "cell_type": "markdown",
      "source": [
        "Add a new column to the dataframe called “f” which is the sum of the columns “a”, “b”, “c”, “d”, “e”. Create another column called “g”. The value in the column “g” should be “LT8” if the value in the column “f” is less than 8 and “GT8” otherwise. Find the number of rows in the dataframe where the value in the column “g” is “LT8”. Find the standard deviation of the column “f” for the rows where the value in the column “g” is “LT8” and “GT8” respectively.\n",
        "\n",
        "---\n",
        "\n"
      ],
      "metadata": {
        "id": "2SKjeokRsMJU"
      }
    },
    {
      "cell_type": "code",
      "source": [
        "table = pd.DataFrame(arr, columns=['a','b','c','d','e'])\n",
        "print(\"The Panda Dataframe\")\n",
        "print(table)"
      ],
      "metadata": {
        "colab": {
          "base_uri": "https://localhost:8080/"
        },
        "id": "8YGCFuwLsrvJ",
        "outputId": "292c1f2c-2c0b-4644-ec46-52df1cdd07eb"
      },
      "execution_count": 135,
      "outputs": [
        {
          "output_type": "stream",
          "name": "stdout",
          "text": [
            "The Panda Dataframe\n",
            "           a         b         c         d         e\n",
            "0   1.363536  1.263654  1.306055  1.971979  1.048493\n",
            "1   1.738805  1.166474  1.039179  1.788601  1.339901\n",
            "2   1.829595  1.079889  1.758136  1.212571  1.228856\n",
            "3   1.415673  1.486432  1.135686  1.633568  1.138670\n",
            "4   1.113676  1.215094  1.869875  1.323104  1.070638\n",
            "5   1.802958  1.925076  1.688168  1.920818  1.503929\n",
            "6   1.241289  1.149652  1.304307  1.391154  1.458297\n",
            "7   1.962395  1.842433  1.112642  1.180470  1.882616\n",
            "8   1.588584  1.378891  1.518414  1.963817  1.049640\n",
            "9   1.243147  1.594921  1.177075  1.352157  1.505500\n",
            "10  1.210993  1.766709  1.024077  1.451257  1.268437\n",
            "11  1.111469  1.428251  1.077143  1.305895  1.053626\n",
            "12  1.831029  1.242392  1.878869  1.605149  1.232769\n",
            "13  1.636363  1.878202  1.901635  1.006446  1.341469\n",
            "14  1.464880  1.826234  1.253305  1.656414  1.219263\n",
            "15  1.135629  1.758180  1.286376  1.346328  1.095765\n",
            "16  1.892509  1.245214  1.107111  1.487694  1.301840\n",
            "17  1.224018  1.691915  1.388389  1.144662  1.585850\n",
            "18  1.483273  1.180190  1.583591  1.954456  1.056359\n",
            "19  1.275083  1.505389  1.141689  1.698441  1.667442\n"
          ]
        }
      ]
    },
    {
      "cell_type": "code",
      "source": [
        "table['f'] = table.sum(axis = 1)\n",
        "print(\"New Column 'f' added\")\n",
        "print(table)"
      ],
      "metadata": {
        "colab": {
          "base_uri": "https://localhost:8080/"
        },
        "id": "llAq8vuTsTWd",
        "outputId": "5140fcca-ff3c-4ae1-ee5f-19c4eab3dd78"
      },
      "execution_count": 136,
      "outputs": [
        {
          "output_type": "stream",
          "name": "stdout",
          "text": [
            "New Column 'f' added\n",
            "           a         b         c         d         e         f\n",
            "0   1.363536  1.263654  1.306055  1.971979  1.048493  6.953717\n",
            "1   1.738805  1.166474  1.039179  1.788601  1.339901  7.072960\n",
            "2   1.829595  1.079889  1.758136  1.212571  1.228856  7.109047\n",
            "3   1.415673  1.486432  1.135686  1.633568  1.138670  6.810029\n",
            "4   1.113676  1.215094  1.869875  1.323104  1.070638  6.592386\n",
            "5   1.802958  1.925076  1.688168  1.920818  1.503929  8.840949\n",
            "6   1.241289  1.149652  1.304307  1.391154  1.458297  6.544698\n",
            "7   1.962395  1.842433  1.112642  1.180470  1.882616  7.980556\n",
            "8   1.588584  1.378891  1.518414  1.963817  1.049640  7.499346\n",
            "9   1.243147  1.594921  1.177075  1.352157  1.505500  6.872799\n",
            "10  1.210993  1.766709  1.024077  1.451257  1.268437  6.721473\n",
            "11  1.111469  1.428251  1.077143  1.305895  1.053626  5.976383\n",
            "12  1.831029  1.242392  1.878869  1.605149  1.232769  7.790209\n",
            "13  1.636363  1.878202  1.901635  1.006446  1.341469  7.764114\n",
            "14  1.464880  1.826234  1.253305  1.656414  1.219263  7.420096\n",
            "15  1.135629  1.758180  1.286376  1.346328  1.095765  6.622277\n",
            "16  1.892509  1.245214  1.107111  1.487694  1.301840  7.034368\n",
            "17  1.224018  1.691915  1.388389  1.144662  1.585850  7.034833\n",
            "18  1.483273  1.180190  1.583591  1.954456  1.056359  7.257869\n",
            "19  1.275083  1.505389  1.141689  1.698441  1.667442  7.288045\n"
          ]
        }
      ]
    },
    {
      "cell_type": "code",
      "source": [
        "table['g'] = table['f'].apply(lambda x: (\"LT8\" if x < 8 else \"GT8\"))\n",
        "print(table)"
      ],
      "metadata": {
        "colab": {
          "base_uri": "https://localhost:8080/"
        },
        "id": "lKkkeUooswuA",
        "outputId": "5a569c57-2c33-44ab-fd54-dbcd026b9564"
      },
      "execution_count": 138,
      "outputs": [
        {
          "output_type": "stream",
          "name": "stdout",
          "text": [
            "           a         b         c         d         e         f    g\n",
            "0   1.363536  1.263654  1.306055  1.971979  1.048493  6.953717  LT8\n",
            "1   1.738805  1.166474  1.039179  1.788601  1.339901  7.072960  LT8\n",
            "2   1.829595  1.079889  1.758136  1.212571  1.228856  7.109047  LT8\n",
            "3   1.415673  1.486432  1.135686  1.633568  1.138670  6.810029  LT8\n",
            "4   1.113676  1.215094  1.869875  1.323104  1.070638  6.592386  LT8\n",
            "5   1.802958  1.925076  1.688168  1.920818  1.503929  8.840949  GT8\n",
            "6   1.241289  1.149652  1.304307  1.391154  1.458297  6.544698  LT8\n",
            "7   1.962395  1.842433  1.112642  1.180470  1.882616  7.980556  LT8\n",
            "8   1.588584  1.378891  1.518414  1.963817  1.049640  7.499346  LT8\n",
            "9   1.243147  1.594921  1.177075  1.352157  1.505500  6.872799  LT8\n",
            "10  1.210993  1.766709  1.024077  1.451257  1.268437  6.721473  LT8\n",
            "11  1.111469  1.428251  1.077143  1.305895  1.053626  5.976383  LT8\n",
            "12  1.831029  1.242392  1.878869  1.605149  1.232769  7.790209  LT8\n",
            "13  1.636363  1.878202  1.901635  1.006446  1.341469  7.764114  LT8\n",
            "14  1.464880  1.826234  1.253305  1.656414  1.219263  7.420096  LT8\n",
            "15  1.135629  1.758180  1.286376  1.346328  1.095765  6.622277  LT8\n",
            "16  1.892509  1.245214  1.107111  1.487694  1.301840  7.034368  LT8\n",
            "17  1.224018  1.691915  1.388389  1.144662  1.585850  7.034833  LT8\n",
            "18  1.483273  1.180190  1.583591  1.954456  1.056359  7.257869  LT8\n",
            "19  1.275083  1.505389  1.141689  1.698441  1.667442  7.288045  LT8\n"
          ]
        }
      ]
    },
    {
      "cell_type": "code",
      "source": [
        "row_count= len(table[table['g']==\"LT8\"])\n",
        "print(\"Number of rows with value 'LT8': \",row_count)"
      ],
      "metadata": {
        "colab": {
          "base_uri": "https://localhost:8080/"
        },
        "id": "WCoIIWR1tMN3",
        "outputId": "d97f5dc7-d2db-4826-88e2-81a56a9f7760"
      },
      "execution_count": 139,
      "outputs": [
        {
          "output_type": "stream",
          "name": "stdout",
          "text": [
            "Number of rows with value 'LT8':  19\n"
          ]
        }
      ]
    },
    {
      "cell_type": "code",
      "source": [
        "sf = table[table['g']==\"LT8\"]['f']\n",
        "print(sf)"
      ],
      "metadata": {
        "colab": {
          "base_uri": "https://localhost:8080/"
        },
        "id": "-la4IcqVvU_E",
        "outputId": "a2be5c03-4bdd-4737-cb88-c0d500560f88"
      },
      "execution_count": 141,
      "outputs": [
        {
          "output_type": "stream",
          "name": "stdout",
          "text": [
            "0     6.953717\n",
            "1     7.072960\n",
            "2     7.109047\n",
            "3     6.810029\n",
            "4     6.592386\n",
            "6     6.544698\n",
            "7     7.980556\n",
            "8     7.499346\n",
            "9     6.872799\n",
            "10    6.721473\n",
            "11    5.976383\n",
            "12    7.790209\n",
            "13    7.764114\n",
            "14    7.420096\n",
            "15    6.622277\n",
            "16    7.034368\n",
            "17    7.034833\n",
            "18    7.257869\n",
            "19    7.288045\n",
            "Name: f, dtype: float64\n"
          ]
        }
      ]
    },
    {
      "cell_type": "code",
      "source": [
        "# calculating standard deviation of 'f' values where 'g'==\"LT8\"\n",
        "arr4 = sf.std()\n",
        "print(arr4)"
      ],
      "metadata": {
        "colab": {
          "base_uri": "https://localhost:8080/"
        },
        "id": "e-kO1eBL5xZp",
        "outputId": "dc538c61-0d4a-41c6-b842-361a3cc17d5d"
      },
      "execution_count": 144,
      "outputs": [
        {
          "output_type": "stream",
          "name": "stdout",
          "text": [
            "0.4924629253159591\n"
          ]
        }
      ]
    },
    {
      "cell_type": "code",
      "source": [
        "sf2 = table[table['g']==\"GT8\"]['f']\n",
        "print(sf2)"
      ],
      "metadata": {
        "colab": {
          "base_uri": "https://localhost:8080/"
        },
        "id": "e0tHTBb66xN5",
        "outputId": "208d1509-d283-4300-d1e0-52973a60d637"
      },
      "execution_count": 145,
      "outputs": [
        {
          "output_type": "stream",
          "name": "stdout",
          "text": [
            "5    8.840949\n",
            "Name: f, dtype: float64\n"
          ]
        }
      ]
    },
    {
      "cell_type": "code",
      "source": [
        "# calculating standard deviation of 'f' values where 'g'==\"GT8\"\n",
        "arr5 = sf2.std()\n",
        "print(arr5)"
      ],
      "metadata": {
        "colab": {
          "base_uri": "https://localhost:8080/"
        },
        "id": "8Sx5AF4O65H8",
        "outputId": "87d2bcad-4500-4d78-df51-b0728ae4e6f8"
      },
      "execution_count": 147,
      "outputs": [
        {
          "output_type": "stream",
          "name": "stdout",
          "text": [
            "nan\n"
          ]
        }
      ]
    },
    {
      "cell_type": "markdown",
      "source": [
        "#Question 12"
      ],
      "metadata": {
        "id": "igGgfU1x5GAJ"
      }
    },
    {
      "cell_type": "markdown",
      "source": [
        "Write a small piece of code to explain broadcasting in numpy.\n",
        "\n",
        "---\n",
        "\n"
      ],
      "metadata": {
        "id": "wpUA3jEW7PME"
      }
    },
    {
      "cell_type": "markdown",
      "source": [
        "Broadcasting in numpy helps to perform arithmatic operations on arrays with different shapes and sizes. As an example two arrays '**a**' and '**b**' of different row and column size is taken, '**a**' is size of **[3x1]** where as '**b**' is of **[1x4]** and arithmatic addition is performed which resulted in a mattrix of **[3x4]**."
      ],
      "metadata": {
        "id": "KlXOl1sq7Ydo"
      }
    },
    {
      "cell_type": "code",
      "source": [
        "# Example to show broadcasting in numpy\n",
        "\n",
        "import numpy as np\n",
        "\n",
        "a = np.arange(3)\n",
        "b = np.arange(4)[:, np.newaxis]\n",
        "\n",
        "print(\"Array A:\",a)\n",
        "print(\"\\nArray B:\",b)\n",
        "\n",
        "print(\"\\nAfter Addition\")\n",
        "print(a+b)\n",
        "print(\"\\nAfter Multiplication\")\n",
        "print(a*b)"
      ],
      "metadata": {
        "colab": {
          "base_uri": "https://localhost:8080/"
        },
        "id": "7SBq07xX7rBS",
        "outputId": "a2772e20-e212-4b54-96c0-13b7ef5d6df3"
      },
      "execution_count": 153,
      "outputs": [
        {
          "output_type": "stream",
          "name": "stdout",
          "text": [
            "Array A: [0 1 2]\n",
            "\n",
            "Array B: [[0]\n",
            " [1]\n",
            " [2]\n",
            " [3]]\n",
            "\n",
            "After Addition\n",
            "[[0 1 2]\n",
            " [1 2 3]\n",
            " [2 3 4]\n",
            " [3 4 5]]\n",
            "\n",
            "After Multiplication\n",
            "[[0 0 0]\n",
            " [0 1 2]\n",
            " [0 2 4]\n",
            " [0 3 6]]\n"
          ]
        }
      ]
    },
    {
      "cell_type": "markdown",
      "source": [
        "#Question 13"
      ],
      "metadata": {
        "id": "7pSQghYo8iu4"
      }
    },
    {
      "cell_type": "markdown",
      "source": [
        "Write a function to compute the argmin of a numpy array. The function should take a numpy array as input and return the index of the minimum element. You can use the np.argmin function to verify your solution.\n",
        "\n",
        "---\n",
        "\n"
      ],
      "metadata": {
        "id": "mv8cLKC9CVby"
      }
    },
    {
      "cell_type": "markdown",
      "source": [
        "\n",
        "\n",
        "> Without Using argmin()\n",
        "\n",
        "\n",
        "\n"
      ],
      "metadata": {
        "id": "nNvLdgiOCXAE"
      }
    },
    {
      "cell_type": "code",
      "source": [
        "import numpy as np\n",
        "a = np.array([11,2,4,1,5,7,1,0,23,44])\n",
        "n = len(a)"
      ],
      "metadata": {
        "id": "lBvb4RTLC_8X"
      },
      "execution_count": 181,
      "outputs": []
    },
    {
      "cell_type": "code",
      "source": [
        "min= a[0]\n",
        "\n",
        "for i in range(0,n):\n",
        "    if (a[i]<=min):\n",
        "        min=a[i]\n",
        "        index=i\n",
        "        continue\n",
        "    else:\n",
        "        min=min\n",
        "\n",
        "print(\"Minnimun value: \", min)  \n",
        "print(\"Index of smallest element: \", index)"
      ],
      "metadata": {
        "colab": {
          "base_uri": "https://localhost:8080/"
        },
        "id": "qo_LkyDO6enW",
        "outputId": "abc0cf78-1405-491d-a50c-16efd7232b68"
      },
      "execution_count": 185,
      "outputs": [
        {
          "output_type": "stream",
          "name": "stdout",
          "text": [
            "Minnimun value:  0\n",
            "Index of smallest element:  7\n"
          ]
        }
      ]
    },
    {
      "cell_type": "markdown",
      "source": [
        "\n",
        "\n",
        "> Using argmin()\n",
        "\n"
      ],
      "metadata": {
        "id": "ewyJppnxB7RE"
      }
    },
    {
      "cell_type": "code",
      "source": [
        "print(\"Indix of smallest element : \", np.argmin(a, axis=0))"
      ],
      "metadata": {
        "colab": {
          "base_uri": "https://localhost:8080/"
        },
        "id": "mu0XwzuXB7yB",
        "outputId": "98e1ea47-05dd-4835-bd22-0061d674a944"
      },
      "execution_count": 186,
      "outputs": [
        {
          "output_type": "stream",
          "name": "stdout",
          "text": [
            "Indix of smallest element :  7\n"
          ]
        }
      ]
    },
    {
      "cell_type": "markdown",
      "source": [
        "**Note:-** If there are more than one smallest elements in the array then my solution or solution 1: (without using argmin()) will give the last index position that element, whereas, solution 2: (using argmin()) will return the first occurance' index position."
      ],
      "metadata": {
        "id": "Rhr0qobcDjLy"
      }
    }
  ]
}